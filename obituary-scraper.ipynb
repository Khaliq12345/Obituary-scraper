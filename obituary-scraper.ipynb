{
 "cells": [
  {
   "cell_type": "code",
   "execution_count": 2,
   "metadata": {},
   "outputs": [],
   "source": [
    "from zenrows import ZenRowsClient\n",
    "from bs4 import BeautifulSoup\n",
    "import requests\n",
    "from requests import session\n",
    "s = session()"
   ]
  },
  {
   "cell_type": "code",
   "execution_count": 3,
   "metadata": {},
   "outputs": [],
   "source": [
    "payload = {'api_key': '35bb9e97a64ea04a8340bd346922f4b1', 'url': 'https://www.legacy.com/api/_frontend/localmarket/united-states/maryland/pasadena?endDate=2022-12-09&limit=1000&offset=0&sortBy=date&startDate=2022-9'}\n",
    "r = s.get('http://api.scraperapi.com', params=payload)"
   ]
  },
  {
   "cell_type": "code",
   "execution_count": 5,
   "metadata": {},
   "outputs": [
    {
     "data": {
      "text/plain": [
       "115"
      ]
     },
     "execution_count": 5,
     "metadata": {},
     "output_type": "execute_result"
    }
   ],
   "source": [
    "data = r.json()\n",
    "len(data['obituaries'])"
   ]
  },
  {
   "cell_type": "code",
   "execution_count": null,
   "metadata": {},
   "outputs": [],
   "source": []
  }
 ],
 "metadata": {
  "kernelspec": {
   "display_name": "Python 3.10.6 ('khaliq')",
   "language": "python",
   "name": "python3"
  },
  "language_info": {
   "codemirror_mode": {
    "name": "ipython",
    "version": 3
   },
   "file_extension": ".py",
   "mimetype": "text/x-python",
   "name": "python",
   "nbconvert_exporter": "python",
   "pygments_lexer": "ipython3",
   "version": "3.10.6"
  },
  "orig_nbformat": 4,
  "vscode": {
   "interpreter": {
    "hash": "f083f4f62c7ff79ae1066b6303fc95835897d0a126dd6ae7a42191c9ceef673f"
   }
  }
 },
 "nbformat": 4,
 "nbformat_minor": 2
}
